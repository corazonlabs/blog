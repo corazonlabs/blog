{
 "cells": [
  {
   "cell_type": "markdown",
   "id": "structural-consequence",
   "metadata": {},
   "source": [
    "# EHR Preprocessing\n",
    "> A post about preprocessing EHR data for Deep Learning.\n",
    "\n",
    "- toc: true \n",
    "- badges: true\n",
    "- comments: true\n",
    "- categories: [deep-learning, ehr]\n",
    "- author: Vinod\n",
    "- image: images/chart-preview.png"
   ]
  },
  {
   "cell_type": "markdown",
   "id": "dental-vampire",
   "metadata": {},
   "source": [
    "# About \n",
    "\n",
    "## EHR \n",
    "- most popular are MIMIC and now eICU\n",
    "\n",
    "**FHIR**\n",
    "- What is it\n",
    "- I chose this because it is a canonical format\n",
    "\n",
    "## Synthea\n",
    "- What is it + how-tos\n",
    "- I used varying sizes - all MA for now\n",
    "- Data dictionary\n",
    "\n",
    "## Labels\n",
    "- Most models use in-patient mortality, readmission, prolonged length of stay etc because they are hospitalization or ICU datasets\n",
    "- I chose to predict chronic conditions instead for the following reasons\n",
    "    - Given the nature of Synthea dataset (i.e. simulating standard (all) events over a lifetime not just hospitalization) \n",
    "    - Also given chronic conditions account for the majority of US healthcare costs\n"
   ]
  },
  {
   "cell_type": "markdown",
   "id": "nonprofit-fellowship",
   "metadata": {},
   "source": [
    "# Cleaning\n",
    "- First split by patient ids\n",
    "- So as to isolate other records based on pt ids\n",
    "## Other cleaning\n",
    "Mostly standard stuff, standardizing column names etc.\n",
    "Dropped Encounters - \n",
    "Code Tables\n",
    "To create vocabularies\n",
    "Identifying START and STOP\n",
    "Observations is a little more complex than the rest\n",
    "\n",
    "## Inserting Age \n",
    "- Years and months for now (given the nature of the Synthea dataset)\n",
    "- Hours or Days  as age are possible in more granular data - e.g. ICU or hospitalization\n",
    "    - where we are trying to predict outcomes within say 24 or 48 hours after admission\n",
    "    - Also as we'll see in upcoming posts, age allows some flexibility\n",
    "        - Initially everything started at age 0\n",
    "        - With a little change, I am now able to get any arbitrary age span - say month 24 to month 104 or 20 to 40 years\n",
    "\n",
    "## Extracting Labels\n",
    "- Extract them from the conditions df and put in patients df for ease of use later\n"
   ]
  },
  {
   "cell_type": "markdown",
   "id": "agreed-consistency",
   "metadata": {},
   "source": [
    "# Creating Vocab \n",
    "- A note about EmbeddingBag and Embedding\n",
    "    - The difference\n",
    "    - The idea of representing a time period with EmbeddingBag (as described in the Google paper)\n",
    "- Implementation - Vocab classes\n",
    "    - EhrVocab class\n",
    "    - ObsVocab class - Observations vocab is special\n",
    "    - Demographics vocab is different\n",
    "    - Vocablist class\n",
    "- Tried to use fastai Vocab, but this required quite a bit of customization, so wrote another one on similar lines\n",
    "- Emb Matrix Dimensions - a convenience fn to get the dimensions as this is needed during creation of the models\n"
   ]
  },
  {
   "cell_type": "code",
   "execution_count": null,
   "id": "adopted-cornell",
   "metadata": {},
   "outputs": [],
   "source": []
  }
 ],
 "metadata": {
  "kernelspec": {
   "display_name": "Python 3",
   "language": "python",
   "name": "python3"
  },
  "language_info": {
   "codemirror_mode": {
    "name": "ipython",
    "version": 3
   },
   "file_extension": ".py",
   "mimetype": "text/x-python",
   "name": "python",
   "nbconvert_exporter": "python",
   "pygments_lexer": "ipython3",
   "version": "3.7.9"
  }
 },
 "nbformat": 4,
 "nbformat_minor": 5
}
