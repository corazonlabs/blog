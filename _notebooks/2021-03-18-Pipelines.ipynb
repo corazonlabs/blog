{
 "cells": [
  {
   "cell_type": "markdown",
   "id": "accredited-element",
   "metadata": {},
   "source": [
    "# EHR Pipelines\n",
    "> A post about creating EHR data pipelines for Deep Learning.\n",
    "\n",
    "- toc: true \n",
    "- badges: true\n",
    "- comments: true\n",
    "- categories: [deep-learning, ehr]\n",
    "- author: Vinod"
   ]
  },
  {
   "cell_type": "markdown",
   "id": "rising-journalist",
   "metadata": {},
   "source": [
    "# Useful links\n",
    "- Karpathy's blog post\n",
    "- Numerous ideas from fast.ai and DeepLearning.ai (pretty much everything else)"
   ]
  },
  {
   "cell_type": "markdown",
   "id": "sustainable-accordance",
   "metadata": {},
   "source": [
    "# Pipelines"
   ]
  },
  {
   "cell_type": "markdown",
   "id": "advance-manitoba",
   "metadata": {},
   "source": [
    "## Assembling a single patient\n",
    "- Using age span\n",
    "- Other functions\n",
    "\n",
    "## ItemBase and Itemlist from fastai\n",
    "- Patient\n",
    "- PatientList\n",
    "\n",
    "## Side-note on Metrics\n",
    "- Auroc score\n",
    "- Multi-label or multi-task better than single-task\n",
    "- Reason for multi-label\n",
    "    - Imbalanced dataset\n",
    "    - Separate train_pos_wts, valid_pos_wts (& test_pos_wts)\n",
    "    - Loss function + Last layer of models \n",
    "    - Moving sigmoid out of the model & into the loss function (BCEWithLogitsLoss)\n",
    "\n",
    "## Utils + Experiment class\n",
    "- Eventually to use WandB or comet.ai\n",
    "- Plotting\n",
    "- Next steps are to use recalls or upgrade this whole thing to use fastai\n",
    "    - Tried to use fastai - but needed to do from scratch as a way to learn first"
   ]
  },
  {
   "cell_type": "code",
   "execution_count": null,
   "id": "saving-forwarding",
   "metadata": {},
   "outputs": [],
   "source": []
  }
 ],
 "metadata": {
  "kernelspec": {
   "display_name": "Python 3",
   "language": "python",
   "name": "python3"
  },
  "language_info": {
   "codemirror_mode": {
    "name": "ipython",
    "version": 3
   },
   "file_extension": ".py",
   "mimetype": "text/x-python",
   "name": "python",
   "nbconvert_exporter": "python",
   "pygments_lexer": "ipython3",
   "version": "3.7.9"
  }
 },
 "nbformat": 4,
 "nbformat_minor": 5
}
